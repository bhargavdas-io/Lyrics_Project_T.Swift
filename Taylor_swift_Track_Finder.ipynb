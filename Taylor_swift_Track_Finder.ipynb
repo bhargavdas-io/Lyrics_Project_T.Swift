{
 "cells": [
  {
   "cell_type": "markdown",
   "metadata": {},
   "source": [
    "A simple project that finds the Track Name of a song using the lyrics inserted by a user."
   ]
  },
  {
   "cell_type": "markdown",
   "metadata": {},
   "source": [
    "Importing and reading the .csv file"
   ]
  },
  {
   "cell_type": "code",
   "execution_count": 17,
   "metadata": {},
   "outputs": [],
   "source": [
    "import csv\n",
    "lyrics_input = input(\"Please enter the lyrics of the song you are trying to find: \")\n",
    "csv_file = open('taylor_swift_lyrics.csv')\n",
    "csvreader = csv.reader(csv_file)\n",
    "song_name = {row[2] for row in csvreader if row[4] == lyrics_input }\n",
    "csv_file.close()\n",
    "print = (lyrics_input, \"is in the song: \", song_name)\n"
   ]
  }
 ],
 "metadata": {
  "interpreter": {
   "hash": "ab5ee50e5154a78288d0c1bc7295fcbd77068cf7b524ec0c110c92772a5ac1e0"
  },
  "kernelspec": {
   "display_name": "Python 3.8.8 ('base')",
   "language": "python",
   "name": "python3"
  },
  "language_info": {
   "codemirror_mode": {
    "name": "ipython",
    "version": 3
   },
   "file_extension": ".py",
   "mimetype": "text/x-python",
   "name": "python",
   "nbconvert_exporter": "python",
   "pygments_lexer": "ipython3",
   "version": "3.8.8"
  },
  "orig_nbformat": 4
 },
 "nbformat": 4,
 "nbformat_minor": 2
}
